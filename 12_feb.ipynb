{
 "cells": [
  {
   "cell_type": "markdown",
   "metadata": {},
   "source": [
    "## Q1.what is an execption in python??what s the difference between expection and syntax error?\n",
    "\n",
    "### Ans:--"
   ]
  },
  {
   "cell_type": "markdown",
   "metadata": {},
   "source": [
    "An exception is an event that occurs during the execution of a program that disrupts the normal flow of instructions. When an exceptional situation arises, an exception is raised. If the exception is not handled, it leads to the termination of the program, and an error message is displayed. Exceptions are a way of handling runtime errors, such as division by zero, file not found, or accessing an index out of range in a list."
   ]
  },
  {
   "cell_type": "code",
   "execution_count": 2,
   "metadata": {},
   "outputs": [
    {
     "name": "stdout",
     "output_type": "stream",
     "text": [
      "Exception: division by zero\n"
     ]
    }
   ],
   "source": [
    "try:\n",
    "    result = 10 / 0  \n",
    "except ZeroDivisionError as e:\n",
    "    print(f\"Exception: {e}\")\n"
   ]
  },
  {
   "cell_type": "markdown",
   "metadata": {},
   "source": [
    "### 1.Exception:\n",
    "\n",
    "- An exception occurs during the execution of a program when a specific error condition is encountered.\n",
    "- Exceptions are runtime errors that disrupt the normal flow of the program.\n",
    "- Examples include ZeroDivisionError, FileNotFoundError, IndexError, etc.\n",
    "- Exceptions can be caught and handled using try-except blocks.\n",
    "\n",
    "### 2.Syntax Error:\n",
    "\n",
    "- A syntax error occurs during the parsing of the program when the Python interpreter encounters a statement that does not conform to the language's syntax rules.\n",
    "- Syntax errors prevent the program from being executed and must be fixed before running the program.\n",
    "- Examples include missing colons, mismatched parentheses, or using a keyword as a variable name.\n",
    "- Syntax errors are usually identified by the Python interpreter before the program starts running."
   ]
  },
  {
   "cell_type": "markdown",
   "metadata": {},
   "source": [
    "## Q2.what happens when an execption is not handled?Explain with an example.\n",
    "### Ans:- "
   ]
  },
  {
   "cell_type": "markdown",
   "metadata": {},
   "source": [
    "When an exception is not handled in a Python program, it leads to the termination of the program. When an exception occurs and is not caught by an appropriate exception handler, the program displays an error message and stops executing further."
   ]
  },
  {
   "cell_type": "markdown",
   "metadata": {},
   "source": [
    "## Q3.which python statement are used to catch and handle exceptions?explain with an example.\n",
    "### Ans:--"
   ]
  },
  {
   "cell_type": "markdown",
   "metadata": {},
   "source": [
    "in python, try,expect,else,finally statement are used for catching and handling exceptions\n"
   ]
  },
  {
   "cell_type": "code",
   "execution_count": 8,
   "metadata": {},
   "outputs": [
    {
     "name": "stdout",
     "output_type": "stream",
     "text": [
      "No execption occured\n",
      "this code is always running\n"
     ]
    }
   ],
   "source": [
    "try:\n",
    "\n",
    "    # result=10/0   ## when you this ine uncommented that time program show error \n",
    "    result=10/2\n",
    "\n",
    "except ZeroDivisionError as e:\n",
    "    print(f\"Exeption Occured :{e}\")\n",
    "\n",
    "else:\n",
    "    print(f\"No execption occured\")\n",
    "\n",
    "finally:\n",
    "    print(f\"this code is always running\")"
   ]
  },
  {
   "cell_type": "markdown",
   "metadata": {},
   "source": [
    "## Q4.Explain with an example\n",
    "\n",
    "### 1.try and else\n",
    "### 2.finally \n",
    "### 3.raise\n",
    "\n",
    "#### Ans:--"
   ]
  },
  {
   "cell_type": "code",
   "execution_count": 9,
   "metadata": {},
   "outputs": [
    {
     "name": "stdout",
     "output_type": "stream",
     "text": [
      "Result: 5.0\n"
     ]
    }
   ],
   "source": [
    "# Example using try and else\n",
    "try:\n",
    "    result = 10 / 2\n",
    "except ZeroDivisionError as e:\n",
    "    print(f\"Error: {e}\")\n",
    "else:\n",
    "    print(f\"Result: {result}\")\n"
   ]
  },
  {
   "cell_type": "code",
   "execution_count": 10,
   "metadata": {},
   "outputs": [
    {
     "name": "stdout",
     "output_type": "stream",
     "text": [
      "File content: This is a line written using write() function.\n",
      "Line 1\n",
      "Line 2\n",
      "Line 3\n",
      "\n",
      "File is closed, regardless of exceptions.\n"
     ]
    }
   ],
   "source": [
    "# Example using try and finally\n",
    "try:\n",
    "    file = open('example.txt', 'r')\n",
    "    content = file.read()\n",
    "    print(\"File content:\", content)\n",
    "finally:\n",
    "    if 'file' in locals():\n",
    "        file.close()\n",
    "    print(\"File is closed, regardless of exceptions.\")\n"
   ]
  },
  {
   "cell_type": "code",
   "execution_count": 11,
   "metadata": {},
   "outputs": [
    {
     "name": "stdout",
     "output_type": "stream",
     "text": [
      "Result: 5.0\n",
      "Error: Division by zero is not allowed.\n"
     ]
    }
   ],
   "source": [
    "# Example using raise\n",
    "def divide(a, b):\n",
    "    try:\n",
    "        if b == 0:\n",
    "            raise ValueError(\"Division by zero is not allowed.\")\n",
    "        result = a / b\n",
    "    except ValueError as e:\n",
    "        print(f\"Error: {e}\")\n",
    "    else:\n",
    "        print(f\"Result: {result}\")\n",
    "\n",
    "# Test cases\n",
    "divide(10, 2)   # Result: 5.0\n",
    "divide(10, 0)   # Error: Division by zero is not allowed.\n"
   ]
  },
  {
   "cell_type": "markdown",
   "metadata": {},
   "source": [
    "## Q5.what are custom Expection in python ? why do we need custom Expection ?Explain with an example.\n",
    "### Ans:--"
   ]
  },
  {
   "cell_type": "markdown",
   "metadata": {},
   "source": [
    "Custom exceptions in Python allow you to define your own exception classes, providing a way to handle specific error conditions in a more organized and meaningful manner. By creating custom exceptions, you can make your code more readable, maintainable, and improve the clarity of error messages.\n",
    "\n",
    "### Why do we need custom exceptions?\n",
    "\n",
    "#### Specific Error Handling:\n",
    "\n",
    "Custom exceptions allow you to handle specific error conditions that may not be adequately represented by built-in Python exceptions. This helps in distinguishing different error scenarios and taking appropriate actions.\n",
    "\n",
    "- Code Clarity:\n",
    "\n",
    "Creating custom exceptions makes your code more self-explanatory. It helps in conveying the intent and nature of the error in a way that is easily understandable by other developers or yourself in the future.\n",
    "\n",
    "- Modularity:\n",
    "\n",
    "Custom exceptions promote modularity by encapsulating error-handling logic within the exception class. This separation of concerns improves code organization and makes it easier to maintain.\n",
    "\n",
    "Example of Custom Exception:\n",
    "\n",
    "Let's say we are building a program that represents a bank account, and we want to raise a custom exception when attempting to withdraw more money than the account balance."
   ]
  },
  {
   "cell_type": "code",
   "execution_count": 14,
   "metadata": {},
   "outputs": [
    {
     "name": "stdout",
     "output_type": "stream",
     "text": [
      "withdraw sucessful!! . Remaining balance is 9000\n"
     ]
    }
   ],
   "source": [
    "class insuficent_balance(Exception):\n",
    "    def __init__(self,balance,amount):\n",
    "        self.balance = balance\n",
    "        self.amount = amount\n",
    "        super().__init__(f\"insufficent balance {balance} and withdraw amount is {amount}\")\n",
    "\n",
    "class bank_account():\n",
    "    def __init__(self,balance):\n",
    "        self.balance=balance\n",
    "    def withdraw(self,amount):\n",
    "        if amount>self.balance:\n",
    "            raise insuficent_balance(self.balance,amount)\n",
    "        else:\n",
    "            self.balance -= amount\n",
    "            print(f\"withdraw sucessful!! . Remaining balance is {self.balance}\")\n",
    "\n",
    "account=bank_account(10000)\n",
    "\n",
    "try:\n",
    "    account.withdraw(1000)\n",
    "except insuficent_balance as e :\n",
    "    print(f\"Error:{e}\") \n"
   ]
  },
  {
   "cell_type": "markdown",
   "metadata": {},
   "source": [
    "## Q6.create a custom expection class .use this class to handale an exception\n",
    "\n",
    "### Ans:--"
   ]
  },
  {
   "cell_type": "code",
   "execution_count": 15,
   "metadata": {},
   "outputs": [
    {
     "name": "stdout",
     "output_type": "stream",
     "text": [
      "Value 75 is within the allowed range.\n",
      "Error: Value 150 is out of the allowed range [0, 100].\n"
     ]
    }
   ],
   "source": [
    "class ValueOutOfRangeError(Exception):\n",
    "    \"\"\"Custom exception for values out of a specified range.\"\"\"\n",
    "\n",
    "    def __init__(self, value, min_value, max_value):\n",
    "        self.value = value\n",
    "        self.min_value = min_value\n",
    "        self.max_value = max_value\n",
    "        super().__init__(f\"Value {value} is out of the allowed range [{min_value}, {max_value}].\")\n",
    "\n",
    "def process_value(value):\n",
    "    min_limit = 0\n",
    "    max_limit = 100\n",
    "\n",
    "    try:\n",
    "        if not (min_limit <= value <= max_limit):\n",
    "            raise ValueOutOfRangeError(value, min_limit, max_limit)\n",
    "        else:\n",
    "            print(f\"Value {value} is within the allowed range.\")\n",
    "    except ValueOutOfRangeError as e:\n",
    "        print(f\"Error: {e}\")\n",
    "\n",
    "# Example usage\n",
    "process_value(75)    # Value 75 is within the allowed range.\n",
    "process_value(150)   # Error: Value 150 is out of the allowed range [0, 100].\n"
   ]
  },
  {
   "cell_type": "markdown",
   "metadata": {},
   "source": []
  }
 ],
 "metadata": {
  "kernelspec": {
   "display_name": "Python 3",
   "language": "python",
   "name": "python3"
  },
  "language_info": {
   "codemirror_mode": {
    "name": "ipython",
    "version": 3
   },
   "file_extension": ".py",
   "mimetype": "text/x-python",
   "name": "python",
   "nbconvert_exporter": "python",
   "pygments_lexer": "ipython3",
   "version": "3.11.2"
  }
 },
 "nbformat": 4,
 "nbformat_minor": 2
}
